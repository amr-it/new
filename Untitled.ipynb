{
 "cells": [
  {
   "cell_type": "raw",
   "id": "945c27da",
   "metadata": {},
   "source": [
    "1. In the below elements which of them are values or an expression? eg:- values can be\n",
    "integer or string and expressions will be mathematical operators.\n",
    "\n",
    "* is an expression\n",
    "'Hello' is a String-Type Value.\n",
    "-87.8 is a Floating-Type Value.\n",
    "- is an expression.\n",
    "/ is an expression.\n",
    "+ is an expression.\n",
    "6 is an Integer-Type Value.\n",
    "\n",
    "2. What is the difference between string and variable ?\n",
    "\n",
    "String is a data type, which is an object of Class String, while, variable is an entity where you store data and it can be a string variable, integer variable, etc.\n",
    "\n",
    "3. Describe 3 different data types.\n",
    "\n",
    "Numeric Data Types > They hold data in numeric format. Examples of this are int, float & complex.\n",
    "Sequence Data Types > list, tuple, range\n",
    "Mapping Data Type > dict\n",
    "\n",
    "4. What is an expression made up of? What do all expressions do?\n",
    "\n",
    "An expression is a combination of operators and operands that is interpreted to produce some value. \n",
    "For Example, 3 + 2\n",
    "Here, 3 and 2 are operands while + is an operator.\n",
    "\n",
    "5. This assignment statements, like spam = 10. What is the difference between an expression and a statement?\n",
    "\n",
    "An expression is a combination of values and functions that are combined and interpreted by the compiler to create a new value, as opposed to a “statement” which is just a standalone unit of execution and doesn't return anything.\n",
    "\n",
    "6. After running the following code, what does the variable bacon contain?\n",
    "bacon = 22\n",
    "bacon + 1\n",
    "\n",
    "bacon still holds the value 22 as bacon + 1 was not stored in bacon\n",
    "\n",
    "7. What should the values of the following two terms be?\n",
    "'spam' + 'spamspam'\n",
    "'spam'*3\n",
    "\n",
    "'spamspamspam'\n",
    "'spamspamspam'\n",
    "\n",
    "8. Why is eggs a valid variable name while 100 is invalid?\n",
    "\n",
    "A variable name must start with a letter or the underscore character. A variable name cannot start with a number. A variable name can only contain alpha-numeric characters and underscores (A-z, 0-9, and _ ) \n",
    "\n",
    "9. What three functions can be used to get the integer, floating-point number, or string version of a value?\n",
    "\n",
    "Int(), str() and float()\n",
    "\n",
    "10. Why does this expression cause an error? How can you fix it?\n",
    "'I have eaten' + 99 + ' burritos.'\n",
    "\n",
    "It causes an error because you can only concatenate string with string and not int(in this case, 99). To fix it, either typecast 99 to string or use 99 as '99'.\n",
    "\n",
    "'I have eaten' + '99' + ' burritos.'\n",
    "'I have eaten' + str(99) + ' burritos.'\n"
   ]
  },
  {
   "cell_type": "markdown",
   "id": "00cb717b",
   "metadata": {},
   "source": []
  }
 ],
 "metadata": {
  "kernelspec": {
   "display_name": "Python 3 (ipykernel)",
   "language": "python",
   "name": "python3"
  },
  "language_info": {
   "codemirror_mode": {
    "name": "ipython",
    "version": 3
   },
   "file_extension": ".py",
   "mimetype": "text/x-python",
   "name": "python",
   "nbconvert_exporter": "python",
   "pygments_lexer": "ipython3",
   "version": "3.9.13"
  }
 },
 "nbformat": 4,
 "nbformat_minor": 5
}
